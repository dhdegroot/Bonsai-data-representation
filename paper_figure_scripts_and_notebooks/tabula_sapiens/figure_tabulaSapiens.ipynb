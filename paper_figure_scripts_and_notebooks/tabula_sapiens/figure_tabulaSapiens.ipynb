{
 "cells": [
  {
   "cell_type": "code",
   "execution_count": null,
   "id": "ec529015",
   "metadata": {},
   "outputs": [],
   "source": [
    "import numpy as np\n",
    "import os\n",
    "import pandas as pd\n",
    "import sys\n",
    "import matplotlib.pyplot as plt\n",
    "import json\n",
    "\n",
    "import h5py\n",
    "import subprocess\n",
    "import pandas as pd\n",
    "import matplotlib.pyplot as plt\n",
    "import csv\n",
    "\n",
    "bnsi_path = '/scicore/home/nimwegen/degroo0000/Bonsai-data-representation'\n",
    "sys.path.append(bnsi_path)\n",
    "from bonsai_scout.bonsai_scout_helpers import Bonvis_figure, Bonvis_settings, Bonvis_metadata"
   ]
  },
  {
   "cell_type": "markdown",
   "id": "2594798b",
   "metadata": {},
   "source": [
    "## Path to data"
   ]
  },
  {
   "cell_type": "code",
   "execution_count": null,
   "id": "163df492-b9fe-4257-9f93-d2f2f2ec7c0c",
   "metadata": {},
   "outputs": [],
   "source": [
    "path_to_output = \"/scicore/home/nimwegen/GROUP/Projects/bonsai_runs/bonsai_scout_public/Epithelial_cells_from_Tabula_Sapiens\"\n",
    "bonsai_results = os.path.join(path_to_output, 'Bonsai')"
   ]
  },
  {
   "cell_type": "markdown",
   "id": "5be6e346",
   "metadata": {},
   "source": [
    "### Make first Bonsai tree"
   ]
  },
  {
   "cell_type": "code",
   "execution_count": null,
   "id": "15a16135-b408-4473-b7e7-c69b4223e671",
   "metadata": {},
   "outputs": [],
   "source": [
    "# %%capture  \n",
    "print(bonsai_results)\n",
    "################ TODO: maybe change path to bonsai results!!\n",
    "# data_path = os.path.join(bonsai_results, 'bonsai_vis_data-OLD.hdf')\n",
    "# settings_path = os.path.join(bonsai_results, 'bonsai_vis_settings-OLD.json')\n",
    "data_path = os.path.join(bonsai_results, 'bonsai_vis_data.hdf')\n",
    "settings_path = os.path.join(bonsai_results, 'bonsai_vis_settings.json')\n",
    "\n",
    "print(\"read in file: {}\".format(data_path))\n",
    "bonvis_metadata = Bonvis_metadata(data_path)\n",
    "bonvis_settings = Bonvis_settings(load_settings_path=settings_path)\n",
    "bonvis_data_hdf = h5py.File(data_path, 'r')\n",
    "bonvis_fig = Bonvis_figure(bonvis_data_hdf, \n",
    "                           bonvis_metadata, \n",
    "                           bonvis_data_path=data_path,\n",
    "                       bonvis_settings=bonvis_settings)\n",
    "celltype_info = bonvis_fig.bonvis_settings.celltype_info\n",
    "bonvis_fig.create_figure(figsize=(6, 6))"
   ]
  },
  {
   "cell_type": "code",
   "execution_count": null,
   "id": "02b2ecec-9f18-4410-9093-6d6a2c769681",
   "metadata": {},
   "outputs": [],
   "source": [
    "celltype_info.annot_infos"
   ]
  },
  {
   "cell_type": "code",
   "execution_count": null,
   "id": "53aefdb7",
   "metadata": {},
   "outputs": [],
   "source": [
    "# Here, we set the desired celltype-annotation for the dataset\n",
    "node_style = celltype_info.annot_infos['annot_tissue'].label\n",
    "\n",
    "# Visualize the tree in the equal-daylight layout, with the correct celltype-annotation\n",
    "bonvis_fig.update_figure(node_style=node_style, ly_type='ly_dendrogram_ladderized', scale_nodes=0.5)\n",
    "a = bonvis_fig.create_figure(figsize=(6, 6))"
   ]
  },
  {
   "cell_type": "code",
   "execution_count": null,
   "id": "d8239aea",
   "metadata": {},
   "outputs": [],
   "source": [
    "# a.savefig(\"figures/bonsai_tabula_sapiens.svg\")\n",
    "# a.savefig(\"figures/bonsai_tabula_sapiens.png\", dpi=300)"
   ]
  },
  {
   "cell_type": "markdown",
   "id": "3a299e0f",
   "metadata": {},
   "source": [
    "### make legend for this"
   ]
  },
  {
   "cell_type": "code",
   "execution_count": null,
   "id": "5f78b966",
   "metadata": {},
   "outputs": [],
   "source": [
    "from matplotlib.cm import get_cmap\n",
    "from matplotlib.lines import Line2D"
   ]
  },
  {
   "cell_type": "code",
   "execution_count": null,
   "id": "db8b87e3",
   "metadata": {},
   "outputs": [],
   "source": [
    "# Define 13 categories\n",
    "categories = celltype_info.annot_infos['annot_tissue'].cats\n",
    "colors = [celltype_info.annot_infos['annot_tissue'].annot_to_color[cat] for cat in categories]\n",
    "\n",
    "# Create legend elements\n",
    "legend_elements = [\n",
    "    Line2D([0], [0], marker='o', color='w', markerfacecolor=color, markersize=10, label=category)\n",
    "    for color, category in zip(colors, categories)\n",
    "]\n",
    "\n",
    "# Create a figure for the legend\n",
    "fig, ax = plt.subplots(figsize=(6, 3))  # Adjust size as needed\n",
    "ax.axis('off')  # Turn off the axis\n",
    "\n",
    "# Add legend to the figure\n",
    "legend = ax.legend(handles=legend_elements, loc='center', frameon=False, ncol=4, fontsize=10)\n",
    "\n",
    "# Save the figure as an SVG\n",
    "output_file = \"figures/bonsai_tabula_sapiens_legend.svg\"\n",
    "# plt.savefig(output_file, format=\"svg\", bbox_inches='tight')\n",
    "print(f\"Legend saved as {output_file}\")\n",
    "# Display the legend\n",
    "plt.show()"
   ]
  },
  {
   "cell_type": "code",
   "execution_count": null,
   "id": "1233a478-d4b1-4b1e-bcfb-1d6feef80634",
   "metadata": {},
   "outputs": [],
   "source": []
  }
 ],
 "metadata": {
  "kernelspec": {
   "display_name": "Python (bonsai_analysis)",
   "language": "python",
   "name": "bonsai_analysis"
  },
  "language_info": {
   "codemirror_mode": {
    "name": "ipython",
    "version": 3
   },
   "file_extension": ".py",
   "mimetype": "text/x-python",
   "name": "python",
   "nbconvert_exporter": "python",
   "pygments_lexer": "ipython3",
   "version": "3.9.19"
  }
 },
 "nbformat": 4,
 "nbformat_minor": 5
}
