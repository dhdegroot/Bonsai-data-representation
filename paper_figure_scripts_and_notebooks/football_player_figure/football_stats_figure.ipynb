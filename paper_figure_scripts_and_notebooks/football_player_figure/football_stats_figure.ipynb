{
 "cells": [
  {
   "cell_type": "code",
   "execution_count": null,
   "id": "ec529015",
   "metadata": {},
   "outputs": [],
   "source": [
    "import numpy as np\n",
    "import os\n",
    "import pandas as pd\n",
    "import sys\n",
    "import matplotlib.pyplot as plt\n",
    "import json\n",
    "\n",
    "import h5py\n",
    "import subprocess\n",
    "import pandas as pd\n",
    "import matplotlib.pyplot as plt\n",
    "import csv\n",
    "\n",
    "bnsi_path = '/scicore/home/nimwegen/degroo0000/Bonsai-data-representation'\n",
    "sys.path.append(bnsi_path)\n",
    "from bonsai_scout.bonsai_scout_helpers import Bonvis_figure, Bonvis_settings, Bonvis_metadata\n",
    "from downstream_analyses.get_clusters_max_diameter import get_footfall_clustering_from_nwk_str\n",
    "from downstream_analyses.calc_marker_genes_helpers import calc_marker_genes_single, calc_marker_genes_double\n",
    "\n",
    "sc_datasets_path = '/scicore/home/nimwegen/degroo0000/sc_datasets/football_stats_all'\n",
    "pd.set_option('max_colwidth', None)"
   ]
  },
  {
   "cell_type": "markdown",
   "id": "2594798b",
   "metadata": {},
   "source": [
    "## Path to data"
   ]
  },
  {
   "cell_type": "code",
   "execution_count": null,
   "id": "aa5ec12c-70b9-453b-b00a-98e4cd926e2f",
   "metadata": {},
   "outputs": [],
   "source": []
  },
  {
   "cell_type": "code",
   "execution_count": null,
   "id": "163df492-b9fe-4257-9f93-d2f2f2ec7c0c",
   "metadata": {},
   "outputs": [],
   "source": [
    "path_to_output = \"/scicore/home/nimwegen/GROUP/Projects/bonsai_runs/paper_figures_datasets/football_stats_all\"\n",
    "bonsai_results = os.path.join(path_to_output, 'Bonsai')"
   ]
  },
  {
   "cell_type": "code",
   "execution_count": null,
   "id": "cd51ff5e-25d7-4391-adbf-9fb8c2345774",
   "metadata": {},
   "outputs": [],
   "source": [
    "acronym_to_descr = {}\n",
    "with open('/scicore/home/nimwegen/degroo0000/sc_datasets/football_stats_all/acronyms.txt', 'r') as f:\n",
    "    for line in f:\n",
    "        acr, descr = line.strip().split(' : ')\n",
    "        acronym_to_descr[acr] = descr"
   ]
  },
  {
   "cell_type": "markdown",
   "id": "5be6e346",
   "metadata": {},
   "source": [
    "### Make first Bonsai tree"
   ]
  },
  {
   "cell_type": "code",
   "execution_count": null,
   "id": "00fbb1e4-0861-4e3e-b61d-316bd89e5dd7",
   "metadata": {},
   "outputs": [],
   "source": []
  },
  {
   "cell_type": "code",
   "execution_count": null,
   "id": "15a16135-b408-4473-b7e7-c69b4223e671",
   "metadata": {},
   "outputs": [],
   "source": [
    "# %%capture  \n",
    "print(bonsai_results)\n",
    "################ TODO: maybe change path to bonsai results!!\n",
    "# data_path = os.path.join(bonsai_results, 'bonsai_vis_data-OLD.hdf')\n",
    "# settings_path = os.path.join(bonsai_results, 'bonsai_vis_settings-OLD.json')\n",
    "data_path = os.path.join(bonsai_results, 'bonsai_vis_data.hdf')\n",
    "settings_path = os.path.join(bonsai_results, 'bonsai_vis_settings.json')\n",
    "\n",
    "print(\"read in file: {}\".format(data_path))\n",
    "bonvis_metadata = Bonvis_metadata(data_path)\n",
    "bonvis_settings = Bonvis_settings(load_settings_path=settings_path)\n",
    "bonvis_data_hdf = h5py.File(data_path, 'r')\n",
    "bonvis_fig = Bonvis_figure(bonvis_data_hdf, \n",
    "                           bonvis_metadata, \n",
    "                           bonvis_data_path=data_path,\n",
    "                       bonvis_settings=bonvis_settings)\n",
    "celltype_info = bonvis_fig.bonvis_settings.celltype_info\n",
    "bonvis_fig.create_figure(figsize=(6, 6))"
   ]
  },
  {
   "cell_type": "code",
   "execution_count": null,
   "id": "fe0c14fc-9fbe-4c09-8932-bf3e56e926c1",
   "metadata": {},
   "outputs": [],
   "source": [
    "bonvis_fig.bonvis_settings.edge_style = {\"color\": [0.4117647058823529, 0.4117647058823529, 0.4117647058823529, 1.0],\n",
    "                             'linewidth':0.6}"
   ]
  },
  {
   "cell_type": "code",
   "execution_count": null,
   "id": "53aefdb7",
   "metadata": {},
   "outputs": [],
   "source": [
    "# Here, we set the desired celltype-annotation for the dataset\n",
    "pos_style = celltype_info.annot_infos['annot_Pos_coarse'].label\n",
    "bonvis_fig.update_figure(ly_type='ly_dendrogram_ladderized', tweak_inds=16)\n",
    "for ind_clst, n_clusters in enumerate(range(2, 13)):\n",
    "    bonvis_fig.update_clusters(cluster_param=n_clusters, min_pdists=False, footfall=True, colortype='tab20')\n",
    "bonvis_fig.update_figure(node_style='Cluster_n=12')\n",
    "a = bonvis_fig.create_figure(figsize=(6, 6))"
   ]
  },
  {
   "cell_type": "code",
   "execution_count": null,
   "id": "a0f786bc-a578-436c-8b60-6d51c380f165",
   "metadata": {},
   "outputs": [],
   "source": [
    "bonvis_fig.update_figure(ly_type='ly_eq_angle', geometry='flat')\n",
    "# clst_style = celltype_info.annot_infos['annot_cl_n=10'].label\n",
    "# bonvis_fig.update_figure(node_style=clst_style)\n",
    "a = bonvis_fig.create_figure(figsize=(6, 6))"
   ]
  },
  {
   "cell_type": "code",
   "execution_count": null,
   "id": "7413350c-52ec-4944-92e8-a097d6af026e",
   "metadata": {},
   "outputs": [],
   "source": [
    "bonvis_fig.update_figure(flipped_node_ids=['internal_402', 'internal_407', 'internal_451', 'internal_449', 'internal_392', 'internal_390', 'internal_387', 'internal_375', 'internal_373', 'internal_367', 'internal_365', 'internal_364', 'internal_301', 'internal_611', 'internal_611', 'internal_619', 'internal_619', 'internal_1216', 'internal_1216', 'internal_1201', 'internal_1201', 'internal_1200', 'internal_1200', 'internal_1199', 'internal_1199', 'internal_882', 'internal_878', 'internal_875', 'internal_867', 'internal_863', 'internal_855', 'internal_850', 'internal_849', 'internal_296', 'internal_294', 'internal_205', 'internal_240', 'internal_254', 'internal_291', 'internal_2', 'Javier_Manquillo', 'internal_4', 'internal_5', 'internal_6', 'internal_1', 'internal_184', 'internal_184', 'internal_191', 'internal_191', 'internal_7'], new_flip_id=True)\n",
    "bonvis_fig.create_figure(figsize=(6, 6))"
   ]
  },
  {
   "cell_type": "code",
   "execution_count": null,
   "id": "a62d35d3-0555-4446-9810-5369ad7fee06",
   "metadata": {},
   "outputs": [],
   "source": [
    "# Visualize the tree in the equal-daylight layout, with the correct celltype-annotation\n",
    "# bonvis_fig.update_figure(origin=np.array([0.38478208, 0.13661041]))\n",
    "# For flat equal-angle:\n",
    "transf_info = bonvis_fig.bonvis_settings.transf_info\n",
    "edge_df_dict = bonvis_metadata.tree_info['edge_dict']\n",
    "# Fit optimal zoom and origin, because it was not known yet\n",
    "transf_info.set_zoom(None)\n",
    "transf_info.origin = None\n",
    "transf_info.get_zoom_origin(bonvis_fig.coords_info.node_coords_nx, edge_df_dict)\n",
    "bonvis_fig.update_figure(zoom=.48)\n",
    "bonvis_fig.update_figure(origin=np.array([-0.1, .30]))\n",
    "# bonvis_fig.update_figure(zoom=.9)\n",
    "a = bonvis_fig.create_figure(figsize=(6,6))"
   ]
  },
  {
   "cell_type": "code",
   "execution_count": null,
   "id": "f8e75f37-164a-41cf-a2b8-723cc1185d77",
   "metadata": {},
   "outputs": [],
   "source": [
    "# bonvis_fig.update_figure(ly_type='ly_dendrogram_ladderized', geometry='flat')"
   ]
  },
  {
   "cell_type": "code",
   "execution_count": null,
   "id": "b2ab450f-c434-4752-a551-38444f31b817",
   "metadata": {},
   "outputs": [],
   "source": [
    "# bonvis_fig.create_figure(figsize=(6,6))"
   ]
  },
  {
   "cell_type": "code",
   "execution_count": null,
   "id": "d8239aea",
   "metadata": {},
   "outputs": [],
   "source": [
    "# a.savefig(\"figures/football_stats_flipped.svg\")\n",
    "# a.savefig(\"figures/football_stats_flipped.png\", dpi=300)"
   ]
  },
  {
   "cell_type": "code",
   "execution_count": null,
   "id": "7676d263-801f-4e1f-807d-be34389708a3",
   "metadata": {},
   "outputs": [],
   "source": [
    "bonvis_fig.update_figure(node_style=pos_style)\n",
    "b = bonvis_fig.create_figure(figsize=(6, 6))"
   ]
  },
  {
   "cell_type": "code",
   "execution_count": null,
   "id": "da5e14ff-fabe-41c3-a8f4-db3ac8d1aacf",
   "metadata": {},
   "outputs": [],
   "source": [
    "# b.savefig(\"figures/football_stats_flipped_pos.svg\")\n",
    "# b.savefig(\"figures/football_stats_flipped_pos.png\", dpi=300)"
   ]
  },
  {
   "cell_type": "code",
   "execution_count": null,
   "id": "a27d6efa-d493-4766-ae57-39f07609bf24",
   "metadata": {},
   "outputs": [],
   "source": [
    "bonvis_fig.bonvis_settings.node_style['feature_path'] = \"data/orig_features\"\n",
    "bonvis_fig.update_figure(node_style='Clr')\n",
    "c = bonvis_fig.create_figure(figsize=(6, 6))"
   ]
  },
  {
   "cell_type": "code",
   "execution_count": null,
   "id": "559a9b98-44d8-4452-9087-29b427fb2a64",
   "metadata": {},
   "outputs": [],
   "source": [
    "bonvis_fig.bonvis_settings.edge_style"
   ]
  },
  {
   "cell_type": "code",
   "execution_count": null,
   "id": "dc890286-e7ee-4877-be79-cfeda83e5f8f",
   "metadata": {},
   "outputs": [],
   "source": [
    "# c.savefig(\"figures/football_stats_flipped_Clr.svg\")\n",
    "# c.savefig(\"figures/football_stats_flipped_Clr.png\", dpi=300)"
   ]
  },
  {
   "cell_type": "markdown",
   "id": "3a299e0f",
   "metadata": {},
   "source": [
    "### make legend for this"
   ]
  },
  {
   "cell_type": "code",
   "execution_count": null,
   "id": "5f78b966",
   "metadata": {},
   "outputs": [],
   "source": [
    "from matplotlib.cm import get_cmap\n",
    "from matplotlib.lines import Line2D"
   ]
  },
  {
   "cell_type": "code",
   "execution_count": null,
   "id": "db8b87e3",
   "metadata": {},
   "outputs": [],
   "source": [
    "# Define 12 categories\n",
    "categories = [\n",
    "\"0: Wingbacks\",\n",
    "\"1: Goalkeepers\",\n",
    "\"2: Midfielders\",\n",
    "\"3: Centre-backs\",\n",
    "\"4: Attacking midfielders\",\n",
    "\"5: Defensive midfielders?\",\n",
    "\"6: Attackers\",\n",
    "\"7: Corner-kicking midfielders\",\n",
    "\"8: Messi and Neymar\",\n",
    "\"9: Attacking midfielders\",\n",
    "\"10: Wingbacks that carry the ball forward more\",\n",
    "\"11: Defenders, leaning towards Midfielders\"\n",
    "]\n",
    "\n",
    "# 3: low \"Press\", high pass completion percentage: PasMedCmp\"\n",
    "# 4:  Carries into 18 -yard box, Shot-Creating-Actions. More successfully received passes than Attackers of Cluster 6.\n",
    "# 8: and you'd say they want to go with Cluster 4, but they play many many more touches, more through-balls, more passes. \n",
    "# That's why they go with Cluster 2, they just touch the ball way more.\n",
    "\n",
    "# Get colors from the tab20 colormap\n",
    "cmap = get_cmap(\"tab20\")\n",
    "colors = [cmap(i / 20) for i in range(12)]  # Use the first 13 colors\n",
    "\n",
    "# Create legend elements\n",
    "legend_elements = [\n",
    "    Line2D([0], [0], marker='o', color='w', markerfacecolor=color, markersize=10, label=category)\n",
    "    for color, category in zip(colors, categories)\n",
    "]\n",
    "\n",
    "# Create a figure for the legend\n",
    "fig, ax = plt.subplots(figsize=(6, 3))  # Adjust size as needed\n",
    "ax.axis('off')  # Turn off the axis\n",
    "\n",
    "# Add legend to the figure\n",
    "legend = ax.legend(handles=legend_elements, loc='center', frameon=False, ncol=1, fontsize=10)\n",
    "\n",
    "# Save the figure as an SVG\n",
    "# output_file = \"figures/football_stats_legend.svg\"\n",
    "# plt.savefig(output_file, format=\"svg\", bbox_inches='tight')\n",
    "# print(f\"Legend saved as {output_file}\")\n",
    "# Display the legend\n",
    "plt.show()"
   ]
  },
  {
   "cell_type": "markdown",
   "id": "65c21f80-b380-4cf3-bb94-295d490a05af",
   "metadata": {},
   "source": [
    "## Get differentially expressed gene over the branch cut by max. footfall"
   ]
  },
  {
   "cell_type": "code",
   "execution_count": null,
   "id": "e059b526-df38-455c-b016-c05cbfc8b056",
   "metadata": {},
   "outputs": [],
   "source": [
    "edges = bonvis_fig.bonvis_metadata.clusters_cut_edges['Cluster_n=12']\n",
    "print(edges)"
   ]
  },
  {
   "cell_type": "code",
   "execution_count": null,
   "id": "3e45aae5-bea7-491a-b14c-50e899f7dffd",
   "metadata": {},
   "outputs": [],
   "source": [
    "clusters_list, cut_edges, cell_ids_splits = get_footfall_clustering_from_nwk_str(tree_nwk_str=bonvis_fig.bonvis_metadata.tree_info['nwk_str'],\n",
    "                                                                 n_clusters=12, cell_ids=bonvis_fig.bonvis_metadata.cell_ids, \n",
    "                                                                get_cell_ids_all_splits=True)"
   ]
  },
  {
   "cell_type": "code",
   "execution_count": null,
   "id": "f659a9ac-32aa-47a9-be8a-7b9d895283d6",
   "metadata": {},
   "outputs": [],
   "source": [
    "deltas_gv = np.load(os.path.join(path_to_output, \"Bonsai/final_bonsai_zscore1.0/posterior_ltqs_vertByGene.npy\")).T\n",
    "d_deltas_sq_gv = np.load(os.path.join(path_to_output, \"Bonsai/final_bonsai_zscore1.0/posterior_ltqsVars_vertByGene.npy\")).T"
   ]
  },
  {
   "cell_type": "code",
   "execution_count": null,
   "id": "cfc53647-83c2-4822-a4f5-ceb2dedff07a",
   "metadata": {},
   "outputs": [],
   "source": [
    "# Load svd-information to invert pca-projection\n",
    "svd_S = np.load(os.path.join(sc_datasets_path, 'svd_S.npy'))\n",
    "svd_U = np.load(os.path.join(sc_datasets_path, 'svd_U.npy'))\n",
    "svd_Vh = np.load(os.path.join(sc_datasets_path, 'svd_Vh.npy'))"
   ]
  },
  {
   "cell_type": "code",
   "execution_count": null,
   "id": "b57b1871-b3e4-4fe6-af73-e0a767692430",
   "metadata": {},
   "outputs": [],
   "source": [
    "feature_ids = json.loads(bonvis_fig.bonvis_data['data']['orig_features'].attrs['gene_ids'])"
   ]
  },
  {
   "cell_type": "code",
   "execution_count": null,
   "id": "5cad799a-59f9-4149-8e6e-3b2d46bc86d2",
   "metadata": {},
   "outputs": [],
   "source": [
    "def get_DE_features(node_id_1, node_id_2):\n",
    "    node_ind_1 = bonvis_fig.bonvis_metadata.node_ids.index(node_1)\n",
    "    node_ind_2 = bonvis_fig.bonvis_metadata.node_ids.index(node_2)\n",
    "    node_coords_1 = deltas_gv[:, node_ind_1]\n",
    "    node_coords_2 = deltas_gv[:, node_ind_2]\n",
    "\n",
    "    orig_features_norm_1 = np.matmul(node_coords_1, svd_Vh[:50, :])\n",
    "    orig_features_norm_2 = np.matmul(node_coords_2, svd_Vh[:50, :])\n",
    "\n",
    "    feature_diffs = orig_features_norm_1 - orig_features_norm_2\n",
    "    ordered_feature_diffs = np.argsort(feature_diffs)\n",
    "\n",
    "    pos_list = [(feature_ids[ordered_feature_diffs[ind]],feature_diffs[ordered_feature_diffs[ind]]) for ind in range(5)]\n",
    "    neg_list = [(feature_ids[ordered_feature_diffs[-ind]],feature_diffs[ordered_feature_diffs[-ind]]) for ind in range(1,6)]\n",
    "    return pos_list, neg_list"
   ]
  },
  {
   "cell_type": "markdown",
   "id": "a24e0a1e-9e74-402a-9274-926689564bd5",
   "metadata": {},
   "source": [
    "## Get marker genes for each split"
   ]
  },
  {
   "cell_type": "code",
   "execution_count": null,
   "id": "32dfa413-18ce-4563-87c9-dbd93b5520fc",
   "metadata": {},
   "outputs": [],
   "source": [
    "feature_hdf = bonvis_fig.bonvis_data['data/orig_features']\n",
    "cell_ids = bonvis_fig.bonvis_metadata.cell_ids"
   ]
  },
  {
   "cell_type": "code",
   "execution_count": null,
   "id": "0ad708cd-4932-4f5f-a145-be10169a5074",
   "metadata": {},
   "outputs": [],
   "source": [
    "def get_marker_genes_df(ds_cell_inds_1, ds_cell_inds_2=None):\n",
    "    # Note that we only get ranks for cells that have no nan-value for any gene\n",
    "    ranks_per_gene = feature_hdf['ranks_per_gene']\n",
    "    cells_wo_nan = feature_hdf['cells_wo_nan']\n",
    "    n_cells = len(cells_wo_nan)\n",
    "    ds_cell_inds_1 = np.intersect1d(ds_cell_inds_1, cells_wo_nan)\n",
    "    gene_ids = json.loads(feature_hdf.attrs['gene_ids'])\n",
    "    variation_features = np.setdiff1d(np.arange(len(gene_ids)), feature_hdf['no_variation_features'])\n",
    "    if ds_cell_inds_2 is None:\n",
    "        marker_genes = calc_marker_genes_single(ds_cell_inds_1, n_cells, gene_ids, ranks_per_gene,\n",
    "                                                n_marker_genes=10,\n",
    "                                                gene_subset=variation_features)\n",
    "    else:\n",
    "        ds_cell_inds_2 = np.intersect1d(ds_cell_inds_2, cells_wo_nan)\n",
    "        marker_genes = calc_marker_genes_double(ds_cell_inds_1, ds_cell_inds_2, n_cells, gene_ids, ranks_per_gene,\n",
    "                                                n_marker_genes=10,\n",
    "                                                gene_subset=variation_features)\n",
    "    marker_genes_df = pd.DataFrame.from_dict(marker_genes, orient='index', columns=['marker_scores'])\n",
    "    marker_genes_df.reset_index(inplace=True)\n",
    "    marker_genes_df.rename({'marker_scores': 'marker_scores', 'index': 'marker_genes'}, axis=1,\n",
    "                           inplace=True)\n",
    "    marker_scores = marker_genes_df['marker_scores'].values\n",
    "    sorted_markers = np.argsort(np.minimum(marker_scores, 1 - marker_scores))\n",
    "    marker_genes_df = marker_genes_df.iloc[sorted_markers]\n",
    "    return marker_genes_df"
   ]
  },
  {
   "cell_type": "code",
   "execution_count": null,
   "id": "da77efc4-4a86-461d-b745-814fad274502",
   "metadata": {},
   "outputs": [],
   "source": [
    "%%capture\n",
    "for ind_edge, edge in enumerate(cut_edges):\n",
    "    print(\"Max-footfall cut {}, attached nodes: {}\".format(ind_edge, edge))\n",
    "    node_id_1, node_id_2 = edge\n",
    "    group_1 = cell_ids_splits[edge][0]\n",
    "    group_2 = cell_ids_splits[edge][1]\n",
    "    print(\"Group 1 has {} players. Examples are: {}\".format(len(group_1), group_1[:5]))\n",
    "    print(\"Group 2 has {} players. Examples are: {}\".format(len(group_2), group_2[:5]))\n",
    "    group_1_inds = [cell_ids.index(player_id) for player_id in group_1]\n",
    "    group_2_inds = [cell_ids.index(player_id) for player_id in group_2]\n",
    "    display(get_marker_genes_df(group_1_inds, group_2_inds))\n",
    "    print('\\n')"
   ]
  },
  {
   "cell_type": "markdown",
   "id": "59015e2f-7367-49f1-a27e-caed0ffa1b58",
   "metadata": {},
   "source": [
    "### Make figure of each split"
   ]
  },
  {
   "cell_type": "code",
   "execution_count": null,
   "id": "120d5a60-b57c-4b8a-8971-c360cbfd0dce",
   "metadata": {},
   "outputs": [],
   "source": [
    "# %%capture\n",
    "# fig_splits, axs_splits = plt.subplots(ncols=1, nrows=11, figsize=(4,44))"
   ]
  },
  {
   "cell_type": "code",
   "execution_count": null,
   "id": "5951ec1e-66c9-47f7-9be1-15cefeed23ec",
   "metadata": {},
   "outputs": [],
   "source": [
    "def get_markers_and_figure_split(cut_count):\n",
    "    edge = cut_edges[cut_count]\n",
    "    n_clsts = cut_count + 2\n",
    "    clst_style_curr = celltype_info.annot_infos['annot_cl_n={}'.format(n_clsts)].label\n",
    "    bonvis_fig.update_figure(node_style=clst_style_curr)\n",
    "    node_id_1, node_id_2 = edge\n",
    "    group_1 = cell_ids_splits[edge][0]\n",
    "    group_2 = cell_ids_splits[edge][1]\n",
    "    print(\"Group 1 has {} players. Examples are: {}\".format(len(group_1), group_1[:5]))\n",
    "    print(\"Group 2 has {} players. Examples are: {}\".format(len(group_2), group_2[:5]))\n",
    "    group_1_inds = [cell_ids.index(player_id) for player_id in group_1]\n",
    "    group_2_inds = [cell_ids.index(player_id) for player_id in group_2]\n",
    "    marker_genes_df = get_marker_genes_df(group_1_inds, group_2_inds)\n",
    "    marker_genes_df['marker_genes_descr'] = [acronym_to_descr[marker_gene] for marker_gene in marker_genes_df.marker_genes]\n",
    "    print(\"Markers one side\")\n",
    "    display(marker_genes_df[marker_genes_df.marker_scores<0.5])\n",
    "    print(\"Markers other side\")\n",
    "    display(marker_genes_df[marker_genes_df.marker_scores>0.5])\n",
    "    \n",
    "    info_dict = bonvis_fig.bonvis_metadata.cell_info['cell_info_dict']\n",
    "    group_1_vert_inds = np.array(info_dict['cell_ind_to_vert_ind'])[group_1_inds]\n",
    "    group_2_vert_inds = np.array(info_dict['cell_ind_to_vert_ind'])[group_2_inds]\n",
    "    non_masked = np.unique(np.concatenate([group_1_vert_inds, group_2_vert_inds]))\n",
    "    masked = np.setdiff1d(np.arange(bonvis_fig.bonvis_metadata.n_nodes), non_masked).tolist()\n",
    "    bonvis_fig.bonvis_settings.node_style['verts_masked'] = masked\n",
    "    bonvis_fig.bonvis_settings.node_style['cells_masked'] = None\n",
    "    bonvis_fig.bonvis_settings.node_style['use_mask'] = True\n",
    "    \n",
    "    bonvis_fig.update_figure(renew_mask=True)\n",
    "    \n",
    "    # d = bonvis_fig.create_figure(figsize=(4, 4), fig=fig_splits, ax=axs_splits[cut_count])\n",
    "    d = bonvis_fig.create_figure(figsize=(6, 6))\n",
    "    d.suptitle(\"Footfall cut number: {}\".format(cut_count + 1), fontsize=12)\n",
    "    # d.savefig(\"figures/football_footfall_{}.svg\".format(cut_count))\n",
    "    # d.savefig(\"figures/football_footfall_{}.png\".format(cut_count), dpi=300)\n",
    "    return marker_genes_df"
   ]
  },
  {
   "cell_type": "code",
   "execution_count": null,
   "id": "2891cdd4-af11-401f-934b-549c1e721add",
   "metadata": {},
   "outputs": [],
   "source": [
    "def get_example_marker_expression(cut_count, marker_index, marker_genes_df):    \n",
    "    marker_id = marker_genes_df.loc[marker_index]['marker_genes']\n",
    "    \n",
    "    bonvis_fig.bonvis_settings.node_style['feature_path'] = \"data/orig_features\"\n",
    "    bonvis_fig.update_figure(node_style=marker_id)\n",
    "    e = bonvis_fig.create_figure(figsize=(6, 6))\n",
    "    e.suptitle(marker_genes_df.loc[marker_index]['marker_genes_descr'], fontsize=12)\n",
    "    # bonvis_fig.ax.set_title(marker_genes_df.loc[marker_index]['marker_genes_descr'])\n",
    "    # e.savefig(\"figures/football_footfall_{}_marker.svg\".format(cut_count, marker_id))\n",
    "    # e.savefig(\"figures/football_footfall_{}_marker.png\".format(cut_count, marker_id), dpi=300)"
   ]
  },
  {
   "cell_type": "code",
   "execution_count": null,
   "id": "edb1e61d-5a90-44c0-bde9-ffdc7b41d8a3",
   "metadata": {},
   "outputs": [],
   "source": [
    "marker_genes_df = get_markers_and_figure_split(0)"
   ]
  },
  {
   "cell_type": "code",
   "execution_count": null,
   "id": "b61bf6bd-28f0-4740-a13a-53d0f393b2d2",
   "metadata": {},
   "outputs": [],
   "source": [
    "display(marker_genes_df[marker_genes_df.marker_scores<0.5].iloc[:3, :][['marker_genes_descr', 'marker_scores']])\n",
    "display(marker_genes_df[marker_genes_df.marker_scores>0.5].iloc[:3, :][['marker_genes_descr', 'marker_scores']])"
   ]
  },
  {
   "cell_type": "code",
   "execution_count": null,
   "id": "e0ba9c61-9d07-47f7-8db6-e9642bf3106a",
   "metadata": {},
   "outputs": [],
   "source": [
    "get_example_marker_expression(0, 14, marker_genes_df)"
   ]
  },
  {
   "cell_type": "code",
   "execution_count": null,
   "id": "7085fe29-4b4b-4492-9413-1b325f28c13d",
   "metadata": {},
   "outputs": [],
   "source": [
    "marker_genes_df = get_markers_and_figure_split(1)"
   ]
  },
  {
   "cell_type": "code",
   "execution_count": null,
   "id": "e3b8bf3a-bfac-4709-ab2f-d2a5d5a98986",
   "metadata": {},
   "outputs": [],
   "source": [
    "get_example_marker_expression(1, 0, marker_genes_df)"
   ]
  },
  {
   "cell_type": "code",
   "execution_count": null,
   "id": "8a713002-d66c-46ad-bcfb-e3aa88649a01",
   "metadata": {},
   "outputs": [],
   "source": [
    "marker_genes_df = get_markers_and_figure_split(2)"
   ]
  },
  {
   "cell_type": "code",
   "execution_count": null,
   "id": "5c28a70a-ae29-4936-a06b-68a4cdee86c0",
   "metadata": {},
   "outputs": [],
   "source": [
    "get_example_marker_expression(2, 12, marker_genes_df)"
   ]
  },
  {
   "cell_type": "code",
   "execution_count": null,
   "id": "31d9e01d-4754-466d-afab-a903c07f9040",
   "metadata": {},
   "outputs": [],
   "source": [
    "marker_genes_df = get_markers_and_figure_split(3)"
   ]
  },
  {
   "cell_type": "code",
   "execution_count": null,
   "id": "81420920-aa9a-4562-a015-a368d6e3b4f7",
   "metadata": {},
   "outputs": [],
   "source": [
    "get_example_marker_expression(3, 5, marker_genes_df)"
   ]
  },
  {
   "cell_type": "code",
   "execution_count": null,
   "id": "70006d9b-e28e-4c45-84d1-45dc22d85234",
   "metadata": {},
   "outputs": [],
   "source": [
    "marker_genes_df = get_markers_and_figure_split(4)"
   ]
  },
  {
   "cell_type": "code",
   "execution_count": null,
   "id": "4d4a016b-05ea-48c6-807c-abbfdd1fbfad",
   "metadata": {},
   "outputs": [],
   "source": [
    "get_example_marker_expression(4, 9, marker_genes_df)"
   ]
  },
  {
   "cell_type": "code",
   "execution_count": null,
   "id": "fed6ed83-b64f-4cc7-a9b3-7b06d9f3f857",
   "metadata": {},
   "outputs": [],
   "source": [
    "marker_genes_df = get_markers_and_figure_split(5)"
   ]
  },
  {
   "cell_type": "code",
   "execution_count": null,
   "id": "cd555071-09f9-43c3-b521-ba02f64ffe05",
   "metadata": {},
   "outputs": [],
   "source": [
    "get_example_marker_expression(5, 2, marker_genes_df)"
   ]
  },
  {
   "cell_type": "code",
   "execution_count": null,
   "id": "6af170aa-b970-443b-8117-723f18ff80be",
   "metadata": {},
   "outputs": [],
   "source": [
    "marker_genes_df = get_markers_and_figure_split(6)"
   ]
  },
  {
   "cell_type": "code",
   "execution_count": null,
   "id": "804aca76-60ca-4ca9-9a9c-ea81bd937090",
   "metadata": {},
   "outputs": [],
   "source": [
    "get_example_marker_expression(6, 10, marker_genes_df)"
   ]
  },
  {
   "cell_type": "code",
   "execution_count": null,
   "id": "1614e74a-96c1-4e82-a5d4-27d24297debe",
   "metadata": {},
   "outputs": [],
   "source": [
    "marker_genes_df = get_markers_and_figure_split(7)"
   ]
  },
  {
   "cell_type": "code",
   "execution_count": null,
   "id": "9eceacf5-c0a8-45a4-b27c-b687667427ca",
   "metadata": {},
   "outputs": [],
   "source": [
    "get_example_marker_expression(7, 9, marker_genes_df)"
   ]
  },
  {
   "cell_type": "code",
   "execution_count": null,
   "id": "9f87cfd0-1884-4a17-a10c-090e15e2a270",
   "metadata": {},
   "outputs": [],
   "source": [
    "marker_genes_df = get_markers_and_figure_split(8)"
   ]
  },
  {
   "cell_type": "code",
   "execution_count": null,
   "id": "cd0d9f6c-485c-482e-b4ad-0606cd4ebf38",
   "metadata": {},
   "outputs": [],
   "source": [
    "get_example_marker_expression(8, 11, marker_genes_df)"
   ]
  },
  {
   "cell_type": "code",
   "execution_count": null,
   "id": "7e58f176-3752-41f2-bb76-1a175ac4e633",
   "metadata": {},
   "outputs": [],
   "source": [
    "marker_genes_df = get_markers_and_figure_split(9)"
   ]
  },
  {
   "cell_type": "code",
   "execution_count": null,
   "id": "bf816559-a00f-444d-beda-f5c210333f1e",
   "metadata": {},
   "outputs": [],
   "source": [
    "get_example_marker_expression(9, 10, marker_genes_df)"
   ]
  },
  {
   "cell_type": "code",
   "execution_count": null,
   "id": "b611a1d7-d64b-4dbe-a7d6-d9639fd04c25",
   "metadata": {},
   "outputs": [],
   "source": [
    "marker_genes_df = get_markers_and_figure_split(10)"
   ]
  },
  {
   "cell_type": "code",
   "execution_count": null,
   "id": "1c3106ff-70b8-492e-a314-4f8789818068",
   "metadata": {},
   "outputs": [],
   "source": [
    "get_example_marker_expression(10, 1, marker_genes_df)"
   ]
  },
  {
   "cell_type": "code",
   "execution_count": null,
   "id": "4dcfbd44-fbcb-44aa-aca6-d75af750d0de",
   "metadata": {},
   "outputs": [],
   "source": [
    "# from PIL import Image\n",
    "\n",
    "# image_files_col1 = [\"figures/football_footfall_{}.png\".format(cut_count) for cut_count in range(11)]\n",
    "# image_files_col2 = [\"figures/football_footfall_{}_marker.png\".format(cut_count) for cut_count in range(11)]\n",
    "\n",
    "# images_col1 = [Image.open(img) for img in image_files_col1]\n",
    "# images_col2 = [Image.open(img) for img in image_files_col2]\n",
    "\n",
    "# max_width_col1 = max(img.width for img in images_col1)\n",
    "# max_width_col2 = max(img.width for img in images_col2)\n",
    "\n",
    "\n",
    "# total_height = sum(img.height for img in images_col1)\n",
    "\n",
    "# final_width = max_width_col1 + max_width_col2\n",
    "\n",
    "# # Create a blank image\n",
    "# final_image = Image.new(\"RGBA\", (final_width, total_height))\n",
    "\n",
    "# y_offset = 0\n",
    "# for img in images_col1:\n",
    "#     final_image.paste(img, (0, y_offset))\n",
    "#     y_offset += img.height + 10\n",
    "\n",
    "# y_offset = 0\n",
    "# for img in images_col2:\n",
    "#     final_image.paste(img, (max_width_col1, y_offset))\n",
    "#     y_offset += img.height + 10\n",
    "\n",
    "# # final_image.save(\"figures/football_footfall_combined_w_markers.png\")"
   ]
  },
  {
   "cell_type": "code",
   "execution_count": null,
   "id": "9e52880a-2d42-4f06-8b69-565b909ed3e4",
   "metadata": {},
   "outputs": [],
   "source": []
  }
 ],
 "metadata": {
  "kernelspec": {
   "display_name": "Python (bonsai_analysis)",
   "language": "python",
   "name": "bonsai_analysis"
  },
  "language_info": {
   "codemirror_mode": {
    "name": "ipython",
    "version": 3
   },
   "file_extension": ".py",
   "mimetype": "text/x-python",
   "name": "python",
   "nbconvert_exporter": "python",
   "pygments_lexer": "ipython3",
   "version": "3.9.19"
  }
 },
 "nbformat": 4,
 "nbformat_minor": 5
}
