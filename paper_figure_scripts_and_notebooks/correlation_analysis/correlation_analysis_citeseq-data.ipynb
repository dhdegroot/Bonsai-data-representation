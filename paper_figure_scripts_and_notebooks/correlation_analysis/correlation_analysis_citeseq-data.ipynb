{
 "cells": [
  {
   "cell_type": "code",
   "execution_count": null,
   "id": "8211fe9b-609f-48db-ab2c-7fa14a380bbf",
   "metadata": {},
   "outputs": [],
   "source": [
    "import matplotlib.pyplot as plt\n",
    "import numpy as np\n",
    "from pathlib import Path\n",
    "import sys, os\n",
    "import pandas as pd\n",
    "\n",
    "import logging\n",
    "FORMAT = '%(asctime)s %(name)s %(funcName)s %(levelname)s %(message)s'\n",
    "log_level = logging.WARNING\n",
    "logging.basicConfig(format=FORMAT, datefmt='%H:%M:%S',\n",
    "                    level=log_level)\n",
    "plt.set_loglevel(level='warning')\n",
    "logging.getLogger(\"umap\").disabled = True\n",
    "\n",
    "os.chdir('/scicore/home/nimwegen/degroo0000/bonsai-development')\n",
    "sys.path.append('/scicore/home/nimwegen/degroo0000/bonsai-development')\n",
    "\n",
    "from bonsai.bonsai_dataprocessing import loadReconstructedTreeAndData, Metadata\n",
    "pd.set_option(\"display.max_rows\", None)"
   ]
  },
  {
   "cell_type": "code",
   "execution_count": null,
   "id": "4a89ca65-dbfe-4703-a598-677707c5bbc8",
   "metadata": {},
   "outputs": [],
   "source": [
    "import json"
   ]
  },
  {
   "cell_type": "code",
   "execution_count": null,
   "id": "ae09df2b-35eb-4f1b-8be4-49d070d668ec",
   "metadata": {},
   "outputs": [],
   "source": [
    "# tree_folder = '/scicore/home/nimwegen/GROUP/Projects/bonsai_runs/hao_satija_2021-CITEseq-immune_cells/run-10xv2/altered_output/bonsai-hao_annot_SUB-protein-cellstates_premerged_tree-rerun-updated_bonsai_code_nov24/results/final_bonsai_zscore1.0_tmpStartpremerged_tree'\n",
    "tree_folder = '/scicore/home/nimwegen/GROUP/Projects/bonsai_runs/bonsai_scout_public/Cord_blood_cells_CITE-seq/bonsai/final_bonsai_zscore1.0_tmpStartpremerged_tree'\n",
    "tree_folder_sim = '/scicore/home/nimwegen/degroo0000/bonsai-development/slurm_runs_pipeline/output/timescaling/simulated_binary_12_gens_samplingnoise_seed_2462/bonsai/final_bonsai_zscore1.0'\n",
    "ltqs_gv = np.load(os.path.join(tree_folder, 'posterior_ltqs_vertByGene.npy')).T\n",
    "ltqs_vars_gv = np.load(os.path.join(tree_folder, 'posterior_ltqsVars_vertByGene.npy')).T\n",
    "ltqs_gv_sim = np.load(os.path.join(tree_folder_sim, 'posterior_ltqs_vertByGene.npy')).T\n",
    "ltqs_vars_gv_sim = np.load(os.path.join(tree_folder_sim, 'posterior_ltqsVars_vertByGene.npy')).T"
   ]
  },
  {
   "cell_type": "code",
   "execution_count": null,
   "id": "01d0391e-fc43-434b-81b8-70c47f722639",
   "metadata": {},
   "outputs": [],
   "source": [
    "settings_path = os.path.join(tree_folder, 'metadata.json')\n",
    "with open(settings_path, 'r') as json_file:\n",
    "    self_dict = json.load(json_file)\n",
    "bonvis_metadata = Metadata(json_filepath=settings_path)\n",
    "gene_ids = bonvis_metadata.geneIds"
   ]
  },
  {
   "cell_type": "code",
   "execution_count": null,
   "id": "dfcf2264-0064-44cd-838f-c3438677c3b5",
   "metadata": {},
   "outputs": [],
   "source": [
    "args = {'dataset': 'hao_satija_2021-CITEseq-immune_cells', 'verbose': True, 'filenames_data': 'delta_vmax.txt,d_delta_vmax.txt',\n",
    "        'data_folder': '/Users/Daan/Documents/postdoc/bonsai-development/data/olivetti_faces',\n",
    "        'input_is_sanity_output': True,\n",
    "        'results_folder': tree_folder,\n",
    "        'rescale_by_var': True}\n",
    "scData, vert_ind_to_node_id = loadReconstructedTreeAndData(args, tree_folder, reprocess_data=False, all_genes=False,\n",
    "                                                           all_ranks=True,\n",
    "                                                           get_cell_info=True, corrected_data=False,\n",
    "                                                           rel_to_results=False,\n",
    "                                                           no_data_needed=False,\n",
    "                                                           single_process=False, keep_original_data=True,\n",
    "                                                           calc_loglik=False, get_data=True,\n",
    "                                                           get_posterior_ltqs=True)"
   ]
  },
  {
   "cell_type": "code",
   "execution_count": null,
   "id": "cac049ba-8db1-4f1a-aedc-06e96a0945d2",
   "metadata": {},
   "outputs": [],
   "source": [
    "edgeInfo = pd.read_csv(os.path.join(tree_folder, 'edgeInfo.txt'), header=None, sep='\\t')\n",
    "edgeInfo.columns = ['source', 'target', 'length']\n",
    "edgeInfo_sim = pd.read_csv(os.path.join(tree_folder_sim, 'edgeInfo.txt'), header=None, sep='\\t')\n",
    "edgeInfo_sim.columns = ['source', 'target', 'length']"
   ]
  },
  {
   "cell_type": "code",
   "execution_count": null,
   "id": "7e37443a-3875-42b7-9252-612afb2de93e",
   "metadata": {},
   "outputs": [],
   "source": [
    "vertInfo = pd.read_csv(os.path.join(tree_folder, 'vertInfo.txt'), header=0, sep='\\t')\n",
    "vert_ids = list(vertInfo['vertName'])"
   ]
  },
  {
   "cell_type": "code",
   "execution_count": null,
   "id": "4932b678-416e-42ff-9ef6-c993db418564",
   "metadata": {},
   "outputs": [],
   "source": [
    "gene_diffs = np.zeros((ltqs_gv.shape[0], edgeInfo.shape[0]))\n",
    "gene_diffs_sim = np.zeros((ltqs_gv_sim.shape[0], edgeInfo_sim.shape[0]))"
   ]
  },
  {
   "cell_type": "code",
   "execution_count": null,
   "id": "c7329f95-ccac-41d9-aa20-4900148477b9",
   "metadata": {},
   "outputs": [],
   "source": [
    "source_list = list(edgeInfo['source'])\n",
    "dest_list = list(edgeInfo['target'])\n",
    "for edge_ind, source in enumerate(source_list):\n",
    "    dest = dest_list[edge_ind]\n",
    "    gene_diffs[:, edge_ind] = ltqs_gv[:, dest] - ltqs_gv[:, source]"
   ]
  },
  {
   "cell_type": "code",
   "execution_count": null,
   "id": "1053d589-1c51-4a8d-9343-68f49f0fdc97",
   "metadata": {},
   "outputs": [],
   "source": [
    "source_list_sim = list(edgeInfo_sim['source'])\n",
    "dest_list_sim = list(edgeInfo_sim['target'])\n",
    "for edge_ind, source in enumerate(source_list_sim):\n",
    "    dest = dest_list_sim[edge_ind]\n",
    "    gene_diffs_sim[:, edge_ind] = ltqs_gv_sim[:, dest] - ltqs_gv_sim[:, source]"
   ]
  },
  {
   "cell_type": "code",
   "execution_count": null,
   "id": "87fcec39-761b-407b-88e3-b5cd5015a73d",
   "metadata": {},
   "outputs": [],
   "source": [
    "corr_coeffs = np.corrcoef(gene_diffs)\n",
    "corr_coeffs_sim = np.corrcoef(gene_diffs_sim)"
   ]
  },
  {
   "cell_type": "code",
   "execution_count": null,
   "id": "c3b57178-fa10-44b2-9afd-8221652deae1",
   "metadata": {},
   "outputs": [],
   "source": [
    "triu_indices = np.triu_indices(gene_diffs.shape[0], k=1)\n",
    "triu_indices"
   ]
  },
  {
   "cell_type": "code",
   "execution_count": null,
   "id": "f501e79b-e821-4ce3-a297-f23925f576cc",
   "metadata": {},
   "outputs": [],
   "source": [
    "triu_indices_sim = np.triu_indices(gene_diffs_sim.shape[0], k=1)\n",
    "triu_indices_sim"
   ]
  },
  {
   "cell_type": "code",
   "execution_count": null,
   "id": "b1c6e433-4130-44de-9334-2fdd6caf6707",
   "metadata": {},
   "outputs": [],
   "source": [
    "corr_coeffs_flat = corr_coeffs[triu_indices[0], triu_indices[1]]\n",
    "corr_coeffs_flat_sim = corr_coeffs_sim[triu_indices_sim[0], triu_indices_sim[1]]"
   ]
  },
  {
   "cell_type": "code",
   "execution_count": null,
   "id": "62d9a07d-23ca-404b-8739-6714355e3ebc",
   "metadata": {},
   "outputs": [],
   "source": [
    "fig_hist, ax_hist = plt.subplots(ncols=2, figsize=(10,4))\n",
    "ax_hist[0].hist(corr_coeffs_flat, bins=100, label='Stoeckius et al. dataset', density=True, log=False);\n",
    "ax_hist[0].hist(corr_coeffs_flat_sim, bins=100, label='Simulated dataset', density=True, histtype='step', log=False);\n",
    "ax_hist[0].set_xlabel('gene-gene correlation (PearsonR)')\n",
    "ax_hist[0].legend();\n",
    "ax_hist[0].set_ylabel('Probability density of gene-gene pairs');\n",
    "\n",
    "ax_hist[1].hist(corr_coeffs_flat, bins=100, label='Stoeckius et al. dataset', log=True);\n",
    "ax_hist[1].hist(corr_coeffs_flat_sim, bins=100, label='Simulated dataset', histtype='step', log=True);\n",
    "ax_hist[1].set_xlabel('gene-gene correlation (PearsonR)');\n",
    "ax_hist[1].set_ylabel('Number of gene-gene pairs');\n",
    "ax_hist[1].legend();\n",
    "\n",
    "plt.suptitle('Gene-gene correlations along the branches of the inferred Bonsai tree')\n",
    "\n",
    "plt.savefig(\"/scicore/home/nimwegen/degroo0000/bonsai-development/useful_scripts_not_bonsai/specific_analysis_scripts/jupyter_notebooks/figures/gene_correlations.png\", dpi=300)\n",
    "plt.savefig(\"/scicore/home/nimwegen/degroo0000/bonsai-development/useful_scripts_not_bonsai/specific_analysis_scripts/jupyter_notebooks/figures/gene_correlations.svg\")"
   ]
  },
  {
   "cell_type": "markdown",
   "id": "b0f7f9a4-0f23-4ce9-8b99-6ce77801d711",
   "metadata": {},
   "source": [
    "# Look into some of the high correlation pairs"
   ]
  },
  {
   "cell_type": "code",
   "execution_count": null,
   "id": "91030cd5-8fdb-4c53-a3a2-2f5de5f06068",
   "metadata": {},
   "outputs": [],
   "source": [
    "corr_coeffs_flat_sorted_up = np.argsort(corr_coeffs_flat)\n",
    "corr_coeffs_flat_sorted_down = np.argsort(-corr_coeffs_flat)"
   ]
  },
  {
   "cell_type": "code",
   "execution_count": null,
   "id": "7eac77d6-db32-44a2-ae3a-77f9297e06d4",
   "metadata": {},
   "outputs": [],
   "source": [
    "R_val = []\n",
    "rank = []\n",
    "gene_1 = []\n",
    "gene_1_ind = []\n",
    "gene_2 = []\n",
    "gene_2_ind = []\n",
    "n_pairs = 0\n",
    "rank_pair = 0\n",
    "while n_pairs < 100:\n",
    "    ind_pair = corr_coeffs_flat_sorted_down[rank_pair]\n",
    "    gene_1_ind_pair = triu_indices[0][ind_pair]\n",
    "    gene_2_ind_pair = triu_indices[1][ind_pair]\n",
    "    gene_1_pair = gene_ids[gene_1_ind_pair]\n",
    "    gene_2_pair = gene_ids[gene_2_ind_pair]\n",
    "    if gene_1_pair.split('_trscrpt')[0] == gene_2_pair.split('_trscrpt')[0]:\n",
    "        rank_pair += 1\n",
    "        continue\n",
    "    gene_1_ind.append(gene_1_ind_pair)\n",
    "    gene_2_ind.append(gene_2_ind_pair)\n",
    "    gene_1.append(gene_1_pair)\n",
    "    gene_2.append(gene_2_pair)\n",
    "    rank.append(rank_pair)\n",
    "    R_val.append(corr_coeffs_flat[ind_pair])\n",
    "    rank_pair += 1\n",
    "    n_pairs += 1\n",
    "pos_corr_dict = {'R_val': R_val, 'rank':rank, 'gene_1': gene_1, 'gene_2': gene_2, 'gene_1_ind': gene_1_ind, 'gene_2_ind': gene_2_ind}\n",
    "pos_corr_df = pd.DataFrame(pos_corr_dict)\n",
    "pos_corr_df"
   ]
  },
  {
   "cell_type": "code",
   "execution_count": null,
   "id": "e0dcd4c0-4ec3-4a5f-8b0b-6a890551d862",
   "metadata": {},
   "outputs": [],
   "source": [
    "R_val = []\n",
    "rank = []\n",
    "gene_1 = []\n",
    "gene_1_ind = []\n",
    "gene_2 = []\n",
    "gene_2_ind = []\n",
    "n_pairs = 0\n",
    "rank_pair = 0\n",
    "while n_pairs < 100:\n",
    "    ind_pair = corr_coeffs_flat_sorted_up[rank_pair]\n",
    "    gene_1_ind_pair = triu_indices[0][ind_pair]\n",
    "    gene_2_ind_pair = triu_indices[1][ind_pair]\n",
    "    gene_1_pair = gene_ids[gene_1_ind_pair]\n",
    "    gene_2_pair = gene_ids[gene_2_ind_pair]\n",
    "    if gene_1_pair.split('_trscrpt')[0] == gene_2_pair.split('_trscrpt')[0]:\n",
    "        rank_pair += 1\n",
    "        continue\n",
    "    gene_1_ind.append(gene_1_ind_pair)\n",
    "    gene_2_ind.append(gene_2_ind_pair)\n",
    "    gene_1.append(gene_1_pair)\n",
    "    gene_2.append(gene_2_pair)\n",
    "    rank.append(rank_pair)\n",
    "    R_val.append(corr_coeffs_flat[ind_pair])\n",
    "    rank_pair += 1\n",
    "    n_pairs += 1\n",
    "neg_corr_dict = {'R_val': R_val, 'rank':rank, 'gene_1': gene_1, 'gene_2': gene_2, 'gene_1_ind': gene_1_ind, 'gene_2_ind': gene_2_ind}\n",
    "neg_corr_df = pd.DataFrame(neg_corr_dict)\n",
    "neg_corr_df"
   ]
  },
  {
   "cell_type": "code",
   "execution_count": null,
   "id": "2ac32850-038e-413d-a716-1c722d19688f",
   "metadata": {},
   "outputs": [],
   "source": [
    "# Check some correlations:\n",
    "gene_pairs = [('BEST1_trscrpt4', 'FTH1_trscrpt2'), ('IGLL5', 'IGLC1'), ('AHSP_trscrpt2','GYPA_GYPB'), ('SDPR', 'HIST1H2AC')]\n",
    "fig, axs = plt.subplots(nrows = len(gene_pairs), figsize=(4, 3* len(gene_pairs)))\n",
    "for ind_gene, gene_pair1 in enumerate(gene_pairs):\n",
    "    ax = axs[ind_gene]\n",
    "    gene1_ind = gene_ids.index(gene_pair1[0])\n",
    "    gene2_ind = gene_ids.index(gene_pair1[1])\n",
    "    ax.scatter(ltqs_gv[gene1_ind, :], ltqs_gv[gene2_ind, :], s=2);\n",
    "    ax.set_xlabel(gene_pair1[0]);\n",
    "    ax.set_ylabel(gene_pair1[1]);\n",
    "plt.tight_layout()"
   ]
  },
  {
   "cell_type": "code",
   "execution_count": null,
   "id": "405d4e2c-573b-4f36-b9d7-3b92d5218c85",
   "metadata": {},
   "outputs": [],
   "source": [
    "def do_pca(data, n_comps=50):\n",
    "    \"\"\"\n",
    "\n",
    "    :param data: should be a numpy array with features (genes) as rows, observations (cells) as columns\n",
    "    :param n_comps: Should be a list of integers indicating for what numbers of components, PCA should be done\n",
    "    :return:\n",
    "    \"\"\"\n",
    "    data_T = data.T\n",
    "    n, m = data_T.shape\n",
    "    pca_centers = data_T.mean(axis=0)\n",
    "    data_cd = data_T - pca_centers\n",
    "\n",
    "    U, S, Vh = np.linalg.svd(data_cd, full_matrices=False)\n",
    "    transformed_data = np.matmul(U, np.diag(S))\n",
    "\n",
    "    proj_data = transformed_data[:, :n_comps].T\n",
    "    return proj_data, U, S, Vh"
   ]
  },
  {
   "cell_type": "code",
   "execution_count": null,
   "id": "13643f74-9b3d-4fd3-b293-a2c672a0fe9e",
   "metadata": {},
   "outputs": [],
   "source": [
    "proj_data, U, S, Vh = do_pca(ltqs_gv)"
   ]
  },
  {
   "cell_type": "code",
   "execution_count": null,
   "id": "0ba1a34d-d9d4-42e8-938a-33086c4abddb",
   "metadata": {},
   "outputs": [],
   "source": [
    "proj_data_sim, U_sim, S_sim, Vh_sim = do_pca(ltqs_gv_sim)"
   ]
  },
  {
   "cell_type": "code",
   "execution_count": null,
   "id": "298279c6-6e33-43d7-93b8-dadd48c158bf",
   "metadata": {},
   "outputs": [],
   "source": [
    "pca_vars = S ** 2 / (ltqs_gv.shape[0] - 1)\n",
    "var_explained = pca_vars / np.sum(pca_vars)\n",
    "pca_vars[:10]\n",
    "var_explained[:10]"
   ]
  },
  {
   "cell_type": "code",
   "execution_count": null,
   "id": "49c9a436",
   "metadata": {},
   "outputs": [],
   "source": [
    "scData.cellIndToVertInd\n",
    "cell_ind_to_vert_ind = [-1] * scData.metadata.nCells\n",
    "for cell_ind, vert_ind in scData.cellIndToVertInd.items():\n",
    "    cell_ind_to_vert_ind[cell_ind] = vert_ind"
   ]
  },
  {
   "cell_type": "code",
   "execution_count": null,
   "id": "70cdad45-f417-43b5-9b56-91466543821d",
   "metadata": {},
   "outputs": [],
   "source": [
    "proj_data_cells = proj_data[:, np.array(cell_ind_to_vert_ind)]"
   ]
  },
  {
   "cell_type": "code",
   "execution_count": null,
   "id": "c561bf2e-89ff-4f8c-bd99-11fc3d1cb964",
   "metadata": {},
   "outputs": [],
   "source": [
    "# Store the PCA-projections as annotation\n",
    "annotation_folder = '/scicore/home/nimwegen/GROUP/Projects/bonsai_runs/hao_satija_2021-CITEseq-immune_cells/run-10xv2/annotation_sub_protein'\n",
    "pca_df = pd.DataFrame(proj_data_cells.T, columns=['PCA{}_expl_var_{}'.format(ind, var_expl) for ind, var_expl in enumerate(var_explained[:50])], index=bonvis_metadata.cellIds)\n",
    "pca_df.to_csv(os.path.join(annotation_folder, 'mat_pca_gene_expression_changes.csv'), sep=',', header=True, index=True, index_label='CellID')\n"
   ]
  },
  {
   "cell_type": "markdown",
   "id": "17a1503a-641b-46cc-9b96-2bfe3a1f018d",
   "metadata": {},
   "source": [
    "## Get PCA-projections for original cell-data as well"
   ]
  },
  {
   "cell_type": "code",
   "execution_count": null,
   "id": "5e25583f-ecc7-4079-859b-08c16478a7b0",
   "metadata": {},
   "outputs": [],
   "source": [
    "data_folder = '/scicore/home/nimwegen/GROUP/Projects/bonsai_runs/hao_satija_2021-CITEseq-immune_cells/run-10xv2/altered_output/sanity-hao_annot_SUB-protein-rerun-sanity_update/using_max_posterior_v_g'\n",
    "ltqs_raw_file = os.path.join(data_folder, 'log_transcription_quotients.txt')\n",
    "gene_ids_raw = list(pd.read_csv(os.path.join(data_folder, 'geneID.txt'), header=None).iloc[:,0])"
   ]
  },
  {
   "cell_type": "code",
   "execution_count": null,
   "id": "1ad3ab2a-7220-4d41-86b1-5d58b631a65d",
   "metadata": {},
   "outputs": [],
   "source": [
    "gene_ids_to_ind = {gene_id: ind for ind, gene_id in enumerate(gene_ids)}\n",
    "gene_inds_to_keep = [ind + 1 for ind, gene_id in enumerate(gene_ids_raw) if gene_id in gene_ids_to_ind]"
   ]
  },
  {
   "cell_type": "code",
   "execution_count": null,
   "id": "1cbdadd6-2c7e-4356-81c1-85bea65e26d5",
   "metadata": {},
   "outputs": [],
   "source": [
    "#import specific rows from CSV into DataFrame\n",
    "to_be_kept = [0] + gene_inds_to_keep\n",
    "df_origdata = pd.read_csv(ltqs_raw_file, skiprows = lambda x: x not in to_be_kept, sep='\\t', header=0, index_col=0)\n",
    "ltqs_gv_orig = df_origdata.values"
   ]
  },
  {
   "cell_type": "code",
   "execution_count": null,
   "id": "4677aa35-0128-4d53-86bc-48a4cccc10aa",
   "metadata": {},
   "outputs": [],
   "source": [
    "proj_data_orig, U_orig, S_orig, Vh_orig = do_pca(ltqs_gv_orig)"
   ]
  },
  {
   "cell_type": "code",
   "execution_count": null,
   "id": "ad3bb46d-db94-4e32-863b-9d0496f2f6ee",
   "metadata": {},
   "outputs": [],
   "source": [
    "pca_vars_orig = S_orig ** 2 / (ltqs_gv_orig.shape[0] - 1)\n",
    "var_explained_orig = pca_vars_orig / np.sum(pca_vars_orig)\n",
    "var_explained_orig[:10]"
   ]
  },
  {
   "cell_type": "code",
   "execution_count": null,
   "id": "1f4a3bcf-7617-4e81-a471-297cc62572a4",
   "metadata": {},
   "outputs": [],
   "source": [
    "# Store the PCA-projections as annotation\n",
    "pca_df_orig = pd.DataFrame(proj_data_orig.T, columns=['PCA{}_expl_var_{}'.format(ind, var_expl) for ind, var_expl in enumerate(var_explained[:50])], index=bonvis_metadata.cellIds)\n",
    "pca_df_orig.to_csv(os.path.join(annotation_folder, 'mat_pca_origdata.csv'), sep=',', header=True, index=True, index_label='CellID')\n"
   ]
  },
  {
   "cell_type": "markdown",
   "id": "bafa18cc-c9f2-4254-886a-dea2bd239513",
   "metadata": {},
   "source": [
    "## Get PCA-projections for simulated data"
   ]
  },
  {
   "cell_type": "code",
   "execution_count": null,
   "id": "c85a7f9e-b7be-4d47-b056-e5875d02cc00",
   "metadata": {},
   "outputs": [],
   "source": [
    "pca_vars_sim = S_sim ** 2 / (ltqs_gv_sim.shape[0] - 1)\n",
    "var_explained_sim = pca_vars_sim / np.sum(pca_vars_sim)\n",
    "pca_vars_sim[:10]\n",
    "var_explained_sim[:10]"
   ]
  },
  {
   "cell_type": "code",
   "execution_count": null,
   "id": "a82862bb-b287-4ad9-9746-a06e1dacbd4f",
   "metadata": {},
   "outputs": [],
   "source": [
    "fig_varexplained, ax_varexplained = plt.subplots()\n",
    "ax_varexplained.plot(np.arange(1, len(var_explained)+1), np.cumsum(var_explained), '*', label='CITE-seq')\n",
    "ax_varexplained.plot(np.arange(1, len(var_explained_sim)+1), np.cumsum(var_explained_sim), '*', label='simulated')\n",
    "ax_varexplained.set_xlim(0, 21)\n",
    "ax_varexplained.legend()\n",
    "ax_varexplained.set_xlabel(\"PCA components\")\n",
    "ax_varexplained.set_ylabel(\"Variance explained\")"
   ]
  },
  {
   "cell_type": "markdown",
   "id": "ad369b41-8319-43ae-b6b1-b09596252d65",
   "metadata": {},
   "source": [
    "# Get top genes for PCA components"
   ]
  },
  {
   "cell_type": "code",
   "execution_count": null,
   "id": "a7f880c7-2553-4f3b-a3ba-a9112de8543a",
   "metadata": {},
   "outputs": [],
   "source": [
    "# PCA 1, lymphoid myeloid\n",
    "top10genes = np.argsort(Vh[0, :])[:10]\n",
    "bottom10genes = np.argsort(-Vh[0, :])[:10]\n",
    "top10genenames = [gene_ids[g_ind] for g_ind in top10genes]\n",
    "print(\"var explained: {}\".format(var_explained[0]))\n",
    "print(top10genenames)\n",
    "bottom10genenames = [gene_ids[g_ind] for g_ind in bottom10genes]\n",
    "print(bottom10genenames)"
   ]
  },
  {
   "cell_type": "code",
   "execution_count": null,
   "id": "1ac8e280-3c96-4668-a15a-b33d4726e3d5",
   "metadata": {},
   "outputs": [],
   "source": [
    "# PCA 2, NK cells versus the rest\n",
    "top10genes = np.argsort(Vh[1, :])[:10]\n",
    "bottom10genes = np.argsort(-Vh[1, :])[:10]\n",
    "top10genenames = [gene_ids[g_ind] for g_ind in top10genes]\n",
    "print(\"var explained: {}\".format(var_explained[1]))\n",
    "print(top10genenames)\n",
    "bottom10genenames = [gene_ids[g_ind] for g_ind in bottom10genes]\n",
    "print(bottom10genenames)"
   ]
  },
  {
   "cell_type": "code",
   "execution_count": null,
   "id": "7c76edb5-1d31-4a8f-a3d8-dacf1a960c8b",
   "metadata": {},
   "outputs": [],
   "source": [
    "# PCA 3, B cells versus the rest\n",
    "top10genes = np.argsort(Vh[2, :])[:10]\n",
    "bottom10genes = np.argsort(-Vh[2, :])[:10]\n",
    "top10genenames = [gene_ids[g_ind] for g_ind in top10genes]\n",
    "print(\"var explained: {}\".format(var_explained[2]))\n",
    "print(top10genenames)\n",
    "bottom10genenames = [gene_ids[g_ind] for g_ind in bottom10genes]\n",
    "print(bottom10genenames)"
   ]
  },
  {
   "cell_type": "code",
   "execution_count": null,
   "id": "b6c7a1b6-94c2-4432-ad0b-0a970d05e1d0",
   "metadata": {},
   "outputs": [],
   "source": [
    "# PCA 4, erythrocytes versus the rest\n",
    "top10genes = np.argsort(Vh[3, :])[:10]\n",
    "bottom10genes = np.argsort(-Vh[3, :])[:10]\n",
    "top10genenames = [gene_ids[g_ind] for g_ind in top10genes]\n",
    "print(\"var explained: {}\".format(var_explained[3]))\n",
    "print(top10genenames)\n",
    "bottom10genenames = [gene_ids[g_ind] for g_ind in bottom10genes]\n",
    "print(bottom10genenames)"
   ]
  },
  {
   "cell_type": "code",
   "execution_count": null,
   "id": "55a47c4e-5df0-4c44-a1ef-b8c107e0914e",
   "metadata": {},
   "outputs": [],
   "source": [
    "# PCA 5, gets more fuzzy\n",
    "top10genes = np.argsort(Vh[4, :])[:10]\n",
    "bottom10genes = np.argsort(-Vh[4, :])[:10]\n",
    "top10genenames = [gene_ids[g_ind] for g_ind in top10genes]\n",
    "print(\"var explained: {}\".format(var_explained[4]))\n",
    "print(top10genenames)\n",
    "bottom10genenames = [gene_ids[g_ind] for g_ind in bottom10genes]\n",
    "print(bottom10genenames)"
   ]
  },
  {
   "cell_type": "code",
   "execution_count": null,
   "id": "f6787ec8-bdf6-4117-ba5d-f774a459b8d6",
   "metadata": {},
   "outputs": [],
   "source": [
    "# PCA 11, gets more fuzzy\n",
    "top10genes = np.argsort(Vh[10, :])[:10]\n",
    "bottom10genes = np.argsort(-Vh[10, :])[:10]\n",
    "top10genenames = [gene_ids[g_ind] for g_ind in top10genes]\n",
    "print(\"var explained: {}\".format(var_explained[4]))\n",
    "print(top10genenames)\n",
    "bottom10genenames = [gene_ids[g_ind] for g_ind in bottom10genes]\n",
    "print(bottom10genenames)"
   ]
  },
  {
   "cell_type": "markdown",
   "id": "0924ca40-450f-4fba-9994-4a0e746fb820",
   "metadata": {},
   "source": [
    "# Finally checking MALAT1"
   ]
  },
  {
   "cell_type": "code",
   "execution_count": null,
   "id": "8b673937-5506-47c2-8964-4900a829f511",
   "metadata": {},
   "outputs": [],
   "source": [
    "data_folder = '/scicore/home/nimwegen/GROUP/Projects/bonsai_runs/hao_satija_2021-CITEseq-immune_cells/run-10xv2/altered_output/sanity-hao_annot_SUB-protein-rerun-sanity_update/using_max_posterior_v_g'\n",
    "ltqs_raw_file = os.path.join(data_folder, 'log_transcription_quotients.txt')\n",
    "gene_ids_raw = list(pd.read_csv(os.path.join(data_folder, 'geneID.txt'), header=None).iloc[:,0])\n",
    "malat_inds = [ind for ind, gene_id in enumerate(gene_ids_raw) if gene_id.startswith('MALAT1')]\n",
    "malat1_ind = gene_ids_raw.index('MALAT1_trscrpt1')\n",
    "malat_inds"
   ]
  },
  {
   "cell_type": "code",
   "execution_count": null,
   "id": "5cca49f5-32dc-444f-9b89-d458c149d3b6",
   "metadata": {},
   "outputs": [],
   "source": [
    "gene_ids_orig = list(pd.read_csv(os.path.join(data_folder, 'geneID-ORIGINAL.txt'), header=None).iloc[:,0])\n",
    "gene_ids_orig[1460]"
   ]
  },
  {
   "cell_type": "code",
   "execution_count": null,
   "id": "15b7a00a-e610-4fda-997b-3d6d9dfb04fe",
   "metadata": {},
   "outputs": [],
   "source": [
    "#import specific rows from CSV into DataFrame\n",
    "to_be_kept = [0, 1461, 1462]\n",
    "df = pd.read_csv(ltqs_raw_file, skiprows = lambda x: x not in to_be_kept, sep='\\t', header=0, index_col=0)"
   ]
  },
  {
   "cell_type": "code",
   "execution_count": null,
   "id": "75bcb9b6-4ed1-4aa7-8683-c62b3fdf1a49",
   "metadata": {},
   "outputs": [],
   "source": [
    "df"
   ]
  },
  {
   "cell_type": "code",
   "execution_count": null,
   "id": "619075ad-1cb1-445b-9744-6638b187bc17",
   "metadata": {},
   "outputs": [],
   "source": [
    "malat_vals = df.values\n",
    "fig_malat, ax_malat = plt.subplots()\n",
    "ax_malat.hist(malat_vals[0,:], bins=100, histtype='step', label='Transcript1');\n",
    "ax_malat.hist(malat_vals[1,:], bins=100, histtype='step', label='Transcript2');\n",
    "ax_malat.legend()\n",
    "ax_malat.set_xlabel('MALAT1 LTQs')"
   ]
  },
  {
   "cell_type": "code",
   "execution_count": null,
   "id": "58700c40-8606-477d-82c8-e54668b6eac5",
   "metadata": {},
   "outputs": [],
   "source": [
    "malat_vals[0,:]"
   ]
  },
  {
   "cell_type": "code",
   "execution_count": null,
   "id": "6d3d53c6-7a6f-46f5-97cb-6ab73df43f0b",
   "metadata": {},
   "outputs": [],
   "source": []
  }
 ],
 "metadata": {
  "kernelspec": {
   "display_name": "Python (bonsai_analysis)",
   "language": "python",
   "name": "bonsai_analysis"
  },
  "language_info": {
   "codemirror_mode": {
    "name": "ipython",
    "version": 3
   },
   "file_extension": ".py",
   "mimetype": "text/x-python",
   "name": "python",
   "nbconvert_exporter": "python",
   "pygments_lexer": "ipython3",
   "version": "3.9.19"
  }
 },
 "nbformat": 4,
 "nbformat_minor": 5
}
