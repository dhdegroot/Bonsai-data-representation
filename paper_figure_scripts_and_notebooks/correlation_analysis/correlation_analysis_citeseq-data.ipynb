{
 "cells": [
  {
   "cell_type": "code",
   "execution_count": null,
   "id": "8211fe9b-609f-48db-ab2c-7fa14a380bbf",
   "metadata": {},
   "outputs": [],
   "source": [
    "import matplotlib.pyplot as plt\n",
    "import numpy as np\n",
    "from pathlib import Path\n",
    "import sys, os\n",
    "import pandas as pd\n",
    "\n",
    "import logging\n",
    "FORMAT = '%(asctime)s %(name)s %(funcName)s %(levelname)s %(message)s'\n",
    "log_level = logging.WARNING\n",
    "logging.basicConfig(format=FORMAT, datefmt='%H:%M:%S',\n",
    "                    level=log_level)\n",
    "plt.set_loglevel(level='warning')\n",
    "logging.getLogger(\"umap\").disabled = True\n",
    "\n",
    "os.chdir('/scicore/home/nimwegen/degroo0000/Bonsai-data-representation')\n",
    "sys.path.append('/scicore/home/nimwegen/degroo0000/Bonsai-data-representation')\n",
    "\n",
    "from bonsai.bonsai_dataprocessing import loadReconstructedTreeAndData, Metadata\n",
    "pd.set_option(\"display.max_rows\", None)"
   ]
  },
  {
   "cell_type": "code",
   "execution_count": null,
   "id": "4a89ca65-dbfe-4703-a598-677707c5bbc8",
   "metadata": {},
   "outputs": [],
   "source": [
    "import json"
   ]
  },
  {
   "cell_type": "code",
   "execution_count": null,
   "id": "ae09df2b-35eb-4f1b-8be4-49d070d668ec",
   "metadata": {},
   "outputs": [],
   "source": [
    "# tree_folder = '/scicore/home/nimwegen/GROUP/Projects/bonsai_runs/hao_satija_2021-CITEseq-immune_cells/run-10xv2/altered_output/bonsai-hao_annot_SUB-protein-cellstates_premerged_tree-rerun-updated_bonsai_code_nov24/results/final_bonsai_zscore1.0_tmpStartpremerged_tree'\n",
    "tree_folder = '/scicore/home/nimwegen/GROUP/Projects/bonsai_runs/bonsai_scout_public/Cord_blood_cells_CITE-seq/Bonsai/final_bonsai_zscore1.0_tmpStartpremerged_tree'\n",
    "tree_folder_sim = '/scicore/home/nimwegen/GROUP/Projects/bonsai_runs/bonsai_scout_public/Simulated_dataset_unbalanced_tree_with_random_branch_lengths_and_realistic_covariance/Bonsai/final_bonsai_zscore1.0_tmpStartpremerged_cs_tree'\n",
    "ltqs_gv = np.load(os.path.join(tree_folder, 'posterior_ltqs_vertByGene.npy')).T\n",
    "ltqs_vars_gv = np.load(os.path.join(tree_folder, 'posterior_ltqsVars_vertByGene.npy')).T\n",
    "ltqs_gv_sim = np.load(os.path.join(tree_folder_sim, 'posterior_ltqs_vertByGene.npy')).T\n",
    "ltqs_vars_gv_sim = np.load(os.path.join(tree_folder_sim, 'posterior_ltqsVars_vertByGene.npy')).T"
   ]
  },
  {
   "cell_type": "code",
   "execution_count": null,
   "id": "01d0391e-fc43-434b-81b8-70c47f722639",
   "metadata": {},
   "outputs": [],
   "source": [
    "settings_path = os.path.join(tree_folder, 'metadata.json')\n",
    "with open(settings_path, 'r') as json_file:\n",
    "    self_dict = json.load(json_file)\n",
    "bonvis_metadata = Metadata(json_filepath=settings_path)\n",
    "gene_ids = bonvis_metadata.geneIds"
   ]
  },
  {
   "cell_type": "code",
   "execution_count": null,
   "id": "dfcf2264-0064-44cd-838f-c3438677c3b5",
   "metadata": {},
   "outputs": [],
   "source": [
    "args = {'dataset': 'hao_satija_2021-CITEseq-immune_cells', 'verbose': True, 'filenames_data': 'delta_vmax.txt,d_delta_vmax.txt',\n",
    "        'data_folder': 'dummy_path',\n",
    "        'input_is_sanity_output': True,\n",
    "        'results_folder': tree_folder,\n",
    "        'rescale_by_var': True}\n",
    "scData, vert_ind_to_node_id = loadReconstructedTreeAndData(args, tree_folder, reprocess_data=False, all_genes=False,\n",
    "                                                           all_ranks=True,\n",
    "                                                           get_cell_info=True, corrected_data=False,\n",
    "                                                           rel_to_results=False,\n",
    "                                                           no_data_needed=False,\n",
    "                                                           single_process=False, keep_original_data=True,\n",
    "                                                           calc_loglik=False, get_data=True,\n",
    "                                                           get_posterior_ltqs=True)"
   ]
  },
  {
   "cell_type": "code",
   "execution_count": null,
   "id": "cac049ba-8db1-4f1a-aedc-06e96a0945d2",
   "metadata": {},
   "outputs": [],
   "source": [
    "edgeInfo = pd.read_csv(os.path.join(tree_folder, 'edgeInfo.txt'), header=None, sep='\\t')\n",
    "edgeInfo.columns = ['source', 'target', 'length']\n",
    "edgeInfo_sim = pd.read_csv(os.path.join(tree_folder_sim, 'edgeInfo.txt'), header=None, sep='\\t')\n",
    "edgeInfo_sim.columns = ['source', 'target', 'length']"
   ]
  },
  {
   "cell_type": "code",
   "execution_count": null,
   "id": "7e37443a-3875-42b7-9252-612afb2de93e",
   "metadata": {},
   "outputs": [],
   "source": [
    "vertInfo = pd.read_csv(os.path.join(tree_folder, 'vertInfo.txt'), header=0, sep='\\t')\n",
    "vert_ids = list(vertInfo['vertName'])"
   ]
  },
  {
   "cell_type": "code",
   "execution_count": null,
   "id": "4932b678-416e-42ff-9ef6-c993db418564",
   "metadata": {},
   "outputs": [],
   "source": [
    "gene_diffs = np.zeros((ltqs_gv.shape[0], edgeInfo.shape[0]))\n",
    "gene_diffs_sim = np.zeros((ltqs_gv_sim.shape[0], edgeInfo_sim.shape[0]))"
   ]
  },
  {
   "cell_type": "code",
   "execution_count": null,
   "id": "c7329f95-ccac-41d9-aa20-4900148477b9",
   "metadata": {},
   "outputs": [],
   "source": [
    "source_list = list(edgeInfo['source'])\n",
    "dest_list = list(edgeInfo['target'])\n",
    "for edge_ind, source in enumerate(source_list):\n",
    "    dest = dest_list[edge_ind]\n",
    "    gene_diffs[:, edge_ind] = ltqs_gv[:, dest] - ltqs_gv[:, source]"
   ]
  },
  {
   "cell_type": "code",
   "execution_count": null,
   "id": "1053d589-1c51-4a8d-9343-68f49f0fdc97",
   "metadata": {},
   "outputs": [],
   "source": [
    "source_list_sim = list(edgeInfo_sim['source'])\n",
    "dest_list_sim = list(edgeInfo_sim['target'])\n",
    "for edge_ind, source in enumerate(source_list_sim):\n",
    "    dest = dest_list_sim[edge_ind]\n",
    "    gene_diffs_sim[:, edge_ind] = ltqs_gv_sim[:, dest] - ltqs_gv_sim[:, source]"
   ]
  },
  {
   "cell_type": "code",
   "execution_count": null,
   "id": "87fcec39-761b-407b-88e3-b5cd5015a73d",
   "metadata": {},
   "outputs": [],
   "source": [
    "corr_coeffs = np.corrcoef(gene_diffs)\n",
    "corr_coeffs_sim = np.corrcoef(gene_diffs_sim)"
   ]
  },
  {
   "cell_type": "code",
   "execution_count": null,
   "id": "c3b57178-fa10-44b2-9afd-8221652deae1",
   "metadata": {},
   "outputs": [],
   "source": [
    "triu_indices = np.triu_indices(gene_diffs.shape[0], k=1)\n",
    "triu_indices"
   ]
  },
  {
   "cell_type": "code",
   "execution_count": null,
   "id": "f501e79b-e821-4ce3-a297-f23925f576cc",
   "metadata": {},
   "outputs": [],
   "source": [
    "triu_indices_sim = np.triu_indices(gene_diffs_sim.shape[0], k=1)\n",
    "triu_indices_sim"
   ]
  },
  {
   "cell_type": "code",
   "execution_count": null,
   "id": "b1c6e433-4130-44de-9334-2fdd6caf6707",
   "metadata": {},
   "outputs": [],
   "source": [
    "corr_coeffs_flat = corr_coeffs[triu_indices[0], triu_indices[1]]\n",
    "corr_coeffs_flat_sim = corr_coeffs_sim[triu_indices_sim[0], triu_indices_sim[1]]"
   ]
  },
  {
   "cell_type": "code",
   "execution_count": null,
   "id": "62d9a07d-23ca-404b-8739-6714355e3ebc",
   "metadata": {},
   "outputs": [],
   "source": [
    "fig_hist, ax_hist = plt.subplots(ncols=2, figsize=(10,4))\n",
    "ax_hist[0].hist(corr_coeffs_flat, bins=100, label='Stoeckius et al. dataset', density=True, log=False);\n",
    "ax_hist[0].hist(corr_coeffs_flat_sim, bins=100, label='Simulated dataset', density=True, histtype='step', log=False);\n",
    "ax_hist[0].set_xlabel('gene-gene correlation (PearsonR)')\n",
    "ax_hist[0].legend();\n",
    "ax_hist[0].set_ylabel('Probability density of gene-gene pairs');\n",
    "\n",
    "ax_hist[1].hist(corr_coeffs_flat, bins=100, label='Stoeckius et al. dataset', log=True);\n",
    "ax_hist[1].hist(corr_coeffs_flat_sim, bins=100, label='Simulated dataset', histtype='step', log=True);\n",
    "ax_hist[1].set_xlabel('gene-gene correlation (PearsonR)');\n",
    "ax_hist[1].set_ylabel('Number of gene-gene pairs');\n",
    "ax_hist[1].legend();\n",
    "\n",
    "plt.suptitle('Gene-gene correlations along the branches of the inferred Bonsai tree')\n",
    "\n",
    "# plt.savefig(\"/scicore/home/nimwegen/degroo0000/bonsai-development/useful_scripts_not_bonsai/specific_analysis_scripts/jupyter_notebooks/figures/gene_correlations.png\", dpi=300)\n",
    "# plt.savefig(\"/scicore/home/nimwegen/degroo0000/bonsai-development/useful_scripts_not_bonsai/specific_analysis_scripts/jupyter_notebooks/figures/gene_correlations.svg\")"
   ]
  },
  {
   "cell_type": "markdown",
   "id": "b0f7f9a4-0f23-4ce9-8b99-6ce77801d711",
   "metadata": {},
   "source": [
    "# Look into some of the high correlation pairs"
   ]
  },
  {
   "cell_type": "code",
   "execution_count": null,
   "id": "91030cd5-8fdb-4c53-a3a2-2f5de5f06068",
   "metadata": {},
   "outputs": [],
   "source": [
    "corr_coeffs_flat_sorted_up = np.argsort(corr_coeffs_flat)\n",
    "corr_coeffs_flat_sorted_down = np.argsort(-corr_coeffs_flat)"
   ]
  },
  {
   "cell_type": "code",
   "execution_count": null,
   "id": "7eac77d6-db32-44a2-ae3a-77f9297e06d4",
   "metadata": {},
   "outputs": [],
   "source": [
    "R_val = []\n",
    "rank = []\n",
    "gene_1 = []\n",
    "gene_1_ind = []\n",
    "gene_2 = []\n",
    "gene_2_ind = []\n",
    "n_pairs = 0\n",
    "rank_pair = 0\n",
    "while n_pairs < 100:\n",
    "    ind_pair = corr_coeffs_flat_sorted_down[rank_pair]\n",
    "    gene_1_ind_pair = triu_indices[0][ind_pair]\n",
    "    gene_2_ind_pair = triu_indices[1][ind_pair]\n",
    "    gene_1_pair = gene_ids[gene_1_ind_pair]\n",
    "    gene_2_pair = gene_ids[gene_2_ind_pair]\n",
    "    if gene_1_pair.split('_trscrpt')[0] == gene_2_pair.split('_trscrpt')[0]:\n",
    "        rank_pair += 1\n",
    "        continue\n",
    "    gene_1_ind.append(gene_1_ind_pair)\n",
    "    gene_2_ind.append(gene_2_ind_pair)\n",
    "    gene_1.append(gene_1_pair)\n",
    "    gene_2.append(gene_2_pair)\n",
    "    rank.append(rank_pair)\n",
    "    R_val.append(corr_coeffs_flat[ind_pair])\n",
    "    rank_pair += 1\n",
    "    n_pairs += 1\n",
    "pos_corr_dict = {'R_val': R_val, 'rank':rank, 'gene_1': gene_1, 'gene_2': gene_2, 'gene_1_ind': gene_1_ind, 'gene_2_ind': gene_2_ind}\n",
    "pos_corr_df = pd.DataFrame(pos_corr_dict)\n",
    "pos_corr_df"
   ]
  },
  {
   "cell_type": "code",
   "execution_count": null,
   "id": "e0dcd4c0-4ec3-4a5f-8b0b-6a890551d862",
   "metadata": {},
   "outputs": [],
   "source": [
    "R_val = []\n",
    "rank = []\n",
    "gene_1 = []\n",
    "gene_1_ind = []\n",
    "gene_2 = []\n",
    "gene_2_ind = []\n",
    "n_pairs = 0\n",
    "rank_pair = 0\n",
    "while n_pairs < 100:\n",
    "    ind_pair = corr_coeffs_flat_sorted_up[rank_pair]\n",
    "    gene_1_ind_pair = triu_indices[0][ind_pair]\n",
    "    gene_2_ind_pair = triu_indices[1][ind_pair]\n",
    "    gene_1_pair = gene_ids[gene_1_ind_pair]\n",
    "    gene_2_pair = gene_ids[gene_2_ind_pair]\n",
    "    if gene_1_pair.split('_trscrpt')[0] == gene_2_pair.split('_trscrpt')[0]:\n",
    "        rank_pair += 1\n",
    "        continue\n",
    "    gene_1_ind.append(gene_1_ind_pair)\n",
    "    gene_2_ind.append(gene_2_ind_pair)\n",
    "    gene_1.append(gene_1_pair)\n",
    "    gene_2.append(gene_2_pair)\n",
    "    rank.append(rank_pair)\n",
    "    R_val.append(corr_coeffs_flat[ind_pair])\n",
    "    rank_pair += 1\n",
    "    n_pairs += 1\n",
    "neg_corr_dict = {'R_val': R_val, 'rank':rank, 'gene_1': gene_1, 'gene_2': gene_2, 'gene_1_ind': gene_1_ind, 'gene_2_ind': gene_2_ind}\n",
    "neg_corr_df = pd.DataFrame(neg_corr_dict)\n",
    "neg_corr_df"
   ]
  },
  {
   "cell_type": "code",
   "execution_count": null,
   "id": "2ac32850-038e-413d-a716-1c722d19688f",
   "metadata": {},
   "outputs": [],
   "source": [
    "# Check some correlations:\n",
    "gene_pairs = [('BEST1_trscrpt4', 'FTH1_trscrpt2'), ('IGLL5', 'IGLC1'), ('AHSP_trscrpt2','GYPA_GYPB'), ('SDPR', 'HIST1H2AC')]\n",
    "fig, axs = plt.subplots(nrows = len(gene_pairs), figsize=(4, 3* len(gene_pairs)))\n",
    "for ind_gene, gene_pair1 in enumerate(gene_pairs):\n",
    "    ax = axs[ind_gene]\n",
    "    gene1_ind = gene_ids.index(gene_pair1[0])\n",
    "    gene2_ind = gene_ids.index(gene_pair1[1])\n",
    "    ax.scatter(ltqs_gv[gene1_ind, :], ltqs_gv[gene2_ind, :], s=2);\n",
    "    ax.set_xlabel(gene_pair1[0]);\n",
    "    ax.set_ylabel(gene_pair1[1]);\n",
    "plt.tight_layout()"
   ]
  },
  {
   "cell_type": "code",
   "execution_count": null,
   "id": "9a750fc3-1e76-4915-9849-226270a6be0a",
   "metadata": {},
   "outputs": [],
   "source": []
  }
 ],
 "metadata": {
  "kernelspec": {
   "display_name": "Python (bonsai_analysis)",
   "language": "python",
   "name": "bonsai_analysis"
  },
  "language_info": {
   "codemirror_mode": {
    "name": "ipython",
    "version": 3
   },
   "file_extension": ".py",
   "mimetype": "text/x-python",
   "name": "python",
   "nbconvert_exporter": "python",
   "pygments_lexer": "ipython3",
   "version": "3.9.19"
  }
 },
 "nbformat": 4,
 "nbformat_minor": 5
}
